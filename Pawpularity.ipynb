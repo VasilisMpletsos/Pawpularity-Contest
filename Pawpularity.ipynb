{
 "cells": [
  {
   "cell_type": "code",
   "execution_count": 1,
   "metadata": {},
   "outputs": [],
   "source": [
    "import matplotlib.pyplot as plt\n",
    "import pandas as pd\n",
    "import numpy as np\n",
    "import tensorflow\n",
    "from tensorflow.keras import Model\n",
    "from tensorflow.keras.layers import Dense, Conv2D, MaxPool2D, Flatten, Dropout, Input\n",
    "from tensorflow.keras.callbacks import ReduceLROnPlateau, EarlyStopping\n",
    "from tensorflow.keras.preprocessing.image import ImageDataGenerator\n",
    "from tensorflow.keras.losses import MeanSquaredError\n",
    "from tensorflow.keras.optimizers import Adam\n",
    "import math"
   ]
  },
  {
   "cell_type": "code",
   "execution_count": 6,
   "metadata": {},
   "outputs": [],
   "source": [
    "input = Input((300,300,3))\n",
    "x = Conv2D(filters=12, kernel_size=(3,3), activation='relu')(input)\n",
    "x = Flatten()(x)\n",
    "output = Dense(1,  activation='linear')(x)"
   ]
  },
  {
   "cell_type": "code",
   "execution_count": 7,
   "metadata": {},
   "outputs": [
    {
     "name": "stdout",
     "output_type": "stream",
     "text": [
      "Model: \"functional_5\"\n",
      "_________________________________________________________________\n",
      "Layer (type)                 Output Shape              Param #   \n",
      "=================================================================\n",
      "input_3 (InputLayer)         [(None, 300, 300, 3)]     0         \n",
      "_________________________________________________________________\n",
      "conv2d_2 (Conv2D)            (None, 298, 298, 12)      336       \n",
      "_________________________________________________________________\n",
      "flatten_2 (Flatten)          (None, 1065648)           0         \n",
      "_________________________________________________________________\n",
      "dense_3 (Dense)              (None, 1)                 1065649   \n",
      "=================================================================\n",
      "Total params: 1,065,985\n",
      "Trainable params: 1,065,985\n",
      "Non-trainable params: 0\n",
      "_________________________________________________________________\n"
     ]
    }
   ],
   "source": [
    "model = Model(input, output)\n",
    "model.summary()"
   ]
  },
  {
   "cell_type": "code",
   "execution_count": 19,
   "metadata": {},
   "outputs": [],
   "source": [
    "# tf.keras.optimizers.Adam(\n",
    "#     learning_rate=0.001, beta_1=0.9, beta_2=0.999, epsilon=1e-07, amsgrad=False,\n",
    "#     name='Adam', **kwargs\n",
    "# )\n",
    "\n",
    "# Lets tweak learning rate to see rate of conversion\n",
    "optimizer = Adam(learning_rate=0.002);\n",
    "\n",
    "model.compile(loss=MeanSquaredError(), optimizer=Adam(), metrics=['mae'])\n",
    "\n",
    "reduce_lr = ReduceLROnPlateau(monitor='accuracy', patience=6, verbose=1, factor=0.75, min_lr=0.00005)\n",
    "\n",
    "early_stop = EarlyStopping(\n",
    "    monitor=\"accuracy\",\n",
    "    min_delta=0.00005,\n",
    "    patience=10,\n",
    "    verbose=1,\n",
    "    mode=\"auto\",\n",
    "    baseline=None,\n",
    "    restore_best_weights=False,\n",
    ")"
   ]
  },
  {
   "cell_type": "code",
   "execution_count": 20,
   "metadata": {},
   "outputs": [],
   "source": [
    "df = pd.read_csv('./petfinder-pawpularity-score/train.csv')"
   ]
  },
  {
   "cell_type": "code",
   "execution_count": 21,
   "metadata": {},
   "outputs": [
    {
     "data": {
      "text/html": [
       "<div>\n",
       "<style scoped>\n",
       "    .dataframe tbody tr th:only-of-type {\n",
       "        vertical-align: middle;\n",
       "    }\n",
       "\n",
       "    .dataframe tbody tr th {\n",
       "        vertical-align: top;\n",
       "    }\n",
       "\n",
       "    .dataframe thead th {\n",
       "        text-align: right;\n",
       "    }\n",
       "</style>\n",
       "<table border=\"1\" class=\"dataframe\">\n",
       "  <thead>\n",
       "    <tr style=\"text-align: right;\">\n",
       "      <th></th>\n",
       "      <th>Id</th>\n",
       "      <th>Subject Focus</th>\n",
       "      <th>Eyes</th>\n",
       "      <th>Face</th>\n",
       "      <th>Near</th>\n",
       "      <th>Action</th>\n",
       "      <th>Accessory</th>\n",
       "      <th>Group</th>\n",
       "      <th>Collage</th>\n",
       "      <th>Human</th>\n",
       "      <th>Occlusion</th>\n",
       "      <th>Info</th>\n",
       "      <th>Blur</th>\n",
       "      <th>Pawpularity</th>\n",
       "    </tr>\n",
       "  </thead>\n",
       "  <tbody>\n",
       "    <tr>\n",
       "      <th>0</th>\n",
       "      <td>0007de18844b0dbbb5e1f607da0606e0</td>\n",
       "      <td>0</td>\n",
       "      <td>1</td>\n",
       "      <td>1</td>\n",
       "      <td>1</td>\n",
       "      <td>0</td>\n",
       "      <td>0</td>\n",
       "      <td>1</td>\n",
       "      <td>0</td>\n",
       "      <td>0</td>\n",
       "      <td>0</td>\n",
       "      <td>0</td>\n",
       "      <td>0</td>\n",
       "      <td>63</td>\n",
       "    </tr>\n",
       "    <tr>\n",
       "      <th>1</th>\n",
       "      <td>0009c66b9439883ba2750fb825e1d7db</td>\n",
       "      <td>0</td>\n",
       "      <td>1</td>\n",
       "      <td>1</td>\n",
       "      <td>0</td>\n",
       "      <td>0</td>\n",
       "      <td>0</td>\n",
       "      <td>0</td>\n",
       "      <td>0</td>\n",
       "      <td>0</td>\n",
       "      <td>0</td>\n",
       "      <td>0</td>\n",
       "      <td>0</td>\n",
       "      <td>42</td>\n",
       "    </tr>\n",
       "    <tr>\n",
       "      <th>2</th>\n",
       "      <td>0013fd999caf9a3efe1352ca1b0d937e</td>\n",
       "      <td>0</td>\n",
       "      <td>1</td>\n",
       "      <td>1</td>\n",
       "      <td>1</td>\n",
       "      <td>0</td>\n",
       "      <td>0</td>\n",
       "      <td>0</td>\n",
       "      <td>0</td>\n",
       "      <td>1</td>\n",
       "      <td>1</td>\n",
       "      <td>0</td>\n",
       "      <td>0</td>\n",
       "      <td>28</td>\n",
       "    </tr>\n",
       "    <tr>\n",
       "      <th>3</th>\n",
       "      <td>0018df346ac9c1d8413cfcc888ca8246</td>\n",
       "      <td>0</td>\n",
       "      <td>1</td>\n",
       "      <td>1</td>\n",
       "      <td>1</td>\n",
       "      <td>0</td>\n",
       "      <td>0</td>\n",
       "      <td>0</td>\n",
       "      <td>0</td>\n",
       "      <td>0</td>\n",
       "      <td>0</td>\n",
       "      <td>0</td>\n",
       "      <td>0</td>\n",
       "      <td>15</td>\n",
       "    </tr>\n",
       "    <tr>\n",
       "      <th>4</th>\n",
       "      <td>001dc955e10590d3ca4673f034feeef2</td>\n",
       "      <td>0</td>\n",
       "      <td>0</td>\n",
       "      <td>0</td>\n",
       "      <td>1</td>\n",
       "      <td>0</td>\n",
       "      <td>0</td>\n",
       "      <td>1</td>\n",
       "      <td>0</td>\n",
       "      <td>0</td>\n",
       "      <td>0</td>\n",
       "      <td>0</td>\n",
       "      <td>0</td>\n",
       "      <td>72</td>\n",
       "    </tr>\n",
       "  </tbody>\n",
       "</table>\n",
       "</div>"
      ],
      "text/plain": [
       "                                 Id  Subject Focus  Eyes  Face  Near  Action  \\\n",
       "0  0007de18844b0dbbb5e1f607da0606e0              0     1     1     1       0   \n",
       "1  0009c66b9439883ba2750fb825e1d7db              0     1     1     0       0   \n",
       "2  0013fd999caf9a3efe1352ca1b0d937e              0     1     1     1       0   \n",
       "3  0018df346ac9c1d8413cfcc888ca8246              0     1     1     1       0   \n",
       "4  001dc955e10590d3ca4673f034feeef2              0     0     0     1       0   \n",
       "\n",
       "   Accessory  Group  Collage  Human  Occlusion  Info  Blur  Pawpularity  \n",
       "0          0      1        0      0          0     0     0           63  \n",
       "1          0      0        0      0          0     0     0           42  \n",
       "2          0      0        0      1          1     0     0           28  \n",
       "3          0      0        0      0          0     0     0           15  \n",
       "4          0      1        0      0          0     0     0           72  "
      ]
     },
     "execution_count": 21,
     "metadata": {},
     "output_type": "execute_result"
    }
   ],
   "source": [
    "df.head()"
   ]
  },
  {
   "cell_type": "code",
   "execution_count": 22,
   "metadata": {},
   "outputs": [
    {
     "data": {
      "text/plain": [
       "numpy.int64"
      ]
     },
     "execution_count": 22,
     "metadata": {},
     "output_type": "execute_result"
    }
   ],
   "source": [
    "type(df['Pawpularity'][0])"
   ]
  },
  {
   "cell_type": "code",
   "execution_count": 23,
   "metadata": {},
   "outputs": [
    {
     "data": {
      "text/plain": [
       "0       0007de18844b0dbbb5e1f607da0606e0\n",
       "1       0009c66b9439883ba2750fb825e1d7db\n",
       "2       0013fd999caf9a3efe1352ca1b0d937e\n",
       "3       0018df346ac9c1d8413cfcc888ca8246\n",
       "4       001dc955e10590d3ca4673f034feeef2\n",
       "                      ...               \n",
       "9907    ffbfa0383c34dc513c95560d6e1fdb57\n",
       "9908    ffcc8532d76436fc79e50eb2e5238e45\n",
       "9909    ffdf2e8673a1da6fb80342fa3b119a20\n",
       "9910    fff19e2ce11718548fa1c5d039a5192a\n",
       "9911    fff8e47c766799c9e12f3cb3d66ad228\n",
       "Name: Id, Length: 9912, dtype: object"
      ]
     },
     "execution_count": 23,
     "metadata": {},
     "output_type": "execute_result"
    }
   ],
   "source": [
    "df['Id']"
   ]
  },
  {
   "cell_type": "code",
   "execution_count": 24,
   "metadata": {},
   "outputs": [
    {
     "data": {
      "text/plain": [
       "0       0007de18844b0dbbb5e1f607da0606e0.jpg\n",
       "1       0009c66b9439883ba2750fb825e1d7db.jpg\n",
       "2       0013fd999caf9a3efe1352ca1b0d937e.jpg\n",
       "3       0018df346ac9c1d8413cfcc888ca8246.jpg\n",
       "4       001dc955e10590d3ca4673f034feeef2.jpg\n",
       "                        ...                 \n",
       "9907    ffbfa0383c34dc513c95560d6e1fdb57.jpg\n",
       "9908    ffcc8532d76436fc79e50eb2e5238e45.jpg\n",
       "9909    ffdf2e8673a1da6fb80342fa3b119a20.jpg\n",
       "9910    fff19e2ce11718548fa1c5d039a5192a.jpg\n",
       "9911    fff8e47c766799c9e12f3cb3d66ad228.jpg\n",
       "Name: Id, Length: 9912, dtype: object"
      ]
     },
     "execution_count": 24,
     "metadata": {},
     "output_type": "execute_result"
    }
   ],
   "source": [
    "df['Id'] = df['Id'] + '.jpg';\n",
    "df['Id']"
   ]
  },
  {
   "cell_type": "code",
   "execution_count": 25,
   "metadata": {},
   "outputs": [
    {
     "data": {
      "text/plain": [
       "0       63\n",
       "1       42\n",
       "2       28\n",
       "3       15\n",
       "4       72\n",
       "        ..\n",
       "9907    15\n",
       "9908    70\n",
       "9909    20\n",
       "9910    20\n",
       "9911    30\n",
       "Name: Pawpularity, Length: 9912, dtype: int64"
      ]
     },
     "execution_count": 25,
     "metadata": {},
     "output_type": "execute_result"
    }
   ],
   "source": [
    "df['Pawpularity']"
   ]
  },
  {
   "cell_type": "code",
   "execution_count": 26,
   "metadata": {},
   "outputs": [
    {
     "name": "stdout",
     "output_type": "stream",
     "text": [
      "Found 9912 validated image filenames.\n"
     ]
    }
   ],
   "source": [
    "# You can see more informations here https://www.tensorflow.org/api_docs/python/tf/keras/preprocessing/image/ImageDataGenerator\n",
    "\n",
    "# tf.keras.preprocessing.image.ImageDataGenerator(\n",
    "#     featurewise_center=False, samplewise_center=False,\n",
    "#     featurewise_std_normalization=False, samplewise_std_normalization=False,\n",
    "#     zca_whitening=False, zca_epsilon=1e-06, rotation_range=0, width_shift_range=0.0,\n",
    "#     height_shift_range=0.0, brightness_range=None, shear_range=0.0, zoom_range=0.0,\n",
    "#     channel_shift_range=0.0, fill_mode='nearest', cval=0.0,\n",
    "#     horizontal_flip=False, vertical_flip=False, rescale=None,\n",
    "#     preprocessing_function=None, data_format=None, validation_split=0.0, dtype=None\n",
    "# )\n",
    "\n",
    "train_dataGen = ImageDataGenerator(\n",
    "    width_shift_range = 0.1,\n",
    "    height_shift_range = 0.1,\n",
    "    zoom_range = 0.1,\n",
    "    rotation_range = 10,\n",
    "    shear_range = 10/180 * math.pi\n",
    ")\n",
    "\n",
    "# flow_from_dataframe(\n",
    "#     dataframe, directory=None, x_col='filename', y_col='class',\n",
    "#     weight_col=None, target_size=(256, 256), color_mode='rgb',\n",
    "#     classes=None, class_mode='categorical', batch_size=32, shuffle=True,\n",
    "#     seed=None, save_to_dir=None, save_prefix='',\n",
    "#     save_format='png', subset=None, interpolation='nearest',\n",
    "#     validate_filenames=True, **kwargs\n",
    "# )\n",
    "\n",
    "# target_size\ttuple of integers (height, width), default: (256, 256). The dimensions to which all images found will be resized.\n",
    "# class_mode\tone of \"binary\", \"categorical\", \"input\", \"multi_output\", \"raw\", sparse\" or None. \"sparse\": 1D numpy array of integer labels\n",
    "\n",
    "# TODO: We will need to pass the data as array of strings in order to use sparse!!!!\n",
    "\n",
    "train_gen = train_dataGen.flow_from_dataframe(\n",
    "    dataframe=df,\n",
    "    directory='./petfinder-pawpularity-score/train',\n",
    "    x_col='Id',\n",
    "    y_col='Pawpularity',\n",
    "    target_size=(300, 300), \n",
    "    color_mode='rgb',\n",
    "    class_mode='raw',\n",
    "    batch_size=32\n",
    ")"
   ]
  },
  {
   "cell_type": "code",
   "execution_count": null,
   "metadata": {},
   "outputs": [
    {
     "name": "stdout",
     "output_type": "stream",
     "text": [
      "Epoch 1/10\n",
      "310/310 [==============================] - 385s 1s/step - loss: 10605728.0000 - mae: 1020.6481\n",
      "Epoch 2/10\n",
      "161/310 [==============>...............] - ETA: 3:08 - loss: 6728.7246 - mae: 61.7590"
     ]
    }
   ],
   "source": [
    "# model.fit(train_gen, epochs=10, callbacks=[tensorboard_callback, reduce_lr, early_stop])\n",
    "history = model.fit(train_gen, epochs=10, verbose=1)"
   ]
  },
  {
   "cell_type": "code",
   "execution_count": null,
   "metadata": {},
   "outputs": [],
   "source": []
  }
 ],
 "metadata": {
  "kernelspec": {
   "display_name": "Python 3",
   "language": "python",
   "name": "python3"
  },
  "language_info": {
   "codemirror_mode": {
    "name": "ipython",
    "version": 3
   },
   "file_extension": ".py",
   "mimetype": "text/x-python",
   "name": "python",
   "nbconvert_exporter": "python",
   "pygments_lexer": "ipython3",
   "version": "3.6.10"
  }
 },
 "nbformat": 4,
 "nbformat_minor": 4
}
